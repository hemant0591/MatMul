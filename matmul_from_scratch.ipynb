{
 "cells": [
  {
   "cell_type": "markdown",
   "id": "f5e11e6e-de1f-4654-ba0d-4c159b9a3a3a",
   "metadata": {},
   "source": [
    "### Importing libraries"
   ]
  },
  {
   "cell_type": "code",
   "execution_count": 1,
   "id": "422bb772-2590-498a-a540-4c58ceb73b73",
   "metadata": {},
   "outputs": [],
   "source": [
    "from pathlib import Path\n",
    "import pickle, gzip, math, os, time, shutil, matplotlib as mpl, matplotlib.pyplot as plt"
   ]
  },
  {
   "cell_type": "markdown",
   "id": "a8e498ee-2068-4d52-ad66-08c034d429fc",
   "metadata": {},
   "source": [
    "### Get Data"
   ]
  },
  {
   "cell_type": "code",
   "execution_count": 2,
   "id": "391fe2cc-64c2-4005-8dfd-1bfe9a0963c1",
   "metadata": {},
   "outputs": [],
   "source": [
    "MNIST_URL='https://github.com/mnielsen/neural-networks-and-deep-learning/blob/master/data/mnist.pkl.gz?raw=true'\n",
    "path_data = Path('/notebooks/Course22_p2/data')\n",
    "path_data.mkdir(exist_ok=True)\n",
    "path_gz = path_data/'mnist.pkl.gz'"
   ]
  },
  {
   "cell_type": "code",
   "execution_count": 3,
   "id": "8b33c901-cc88-4426-9e45-6f79e306f710",
   "metadata": {},
   "outputs": [],
   "source": [
    "from urllib.request import urlretrieve\n",
    "if not path_gz.exists(): urlretrieve(MNIST_URL, path_gz)"
   ]
  },
  {
   "cell_type": "code",
   "execution_count": 4,
   "id": "8842284e-5ca8-46d2-a7a5-c725a672d9b5",
   "metadata": {},
   "outputs": [
    {
     "name": "stdout",
     "output_type": "stream",
     "text": [
      "total 16653\n",
      "-rw-r--r-- 1 root root 17051982 Apr  7 09:32 mnist.pkl.gz\n"
     ]
    }
   ],
   "source": [
    "!ls -l /notebooks/Course22_p2/data"
   ]
  },
  {
   "cell_type": "code",
   "execution_count": 5,
   "id": "112c8c16-0db4-4304-ad49-99b37b41a7bd",
   "metadata": {},
   "outputs": [],
   "source": [
    "with gzip.open(path_gz, 'rb') as f: ((x_train, y_train), (x_valid, y_valid), _) = pickle.load(f, encoding='latin-1')"
   ]
  },
  {
   "cell_type": "code",
   "execution_count": 6,
   "id": "1146614f-b214-4c15-b460-b28c7b81cb29",
   "metadata": {},
   "outputs": [
    {
     "data": {
      "text/plain": [
       "numpy.ndarray"
      ]
     },
     "execution_count": 6,
     "metadata": {},
     "output_type": "execute_result"
    }
   ],
   "source": [
    "type(x_train)"
   ]
  },
  {
   "cell_type": "markdown",
   "id": "613900ee-14f6-4497-a8df-e822e73dc7e9",
   "metadata": {},
   "source": [
    "When we unzip the data it returns a numpy array, we'll convert it to list so that we can implement the matrix multiplication from scratch"
   ]
  },
  {
   "cell_type": "code",
   "execution_count": 7,
   "id": "6743a364-9aab-4c7b-be1c-867de951a1d5",
   "metadata": {},
   "outputs": [
    {
     "data": {
      "text/plain": [
       "[0.0,\n",
       " 0.0,\n",
       " 0.0,\n",
       " 0.19140625,\n",
       " 0.9296875,\n",
       " 0.98828125,\n",
       " 0.98828125,\n",
       " 0.98828125,\n",
       " 0.98828125,\n",
       " 0.98828125]"
      ]
     },
     "execution_count": 7,
     "metadata": {},
     "output_type": "execute_result"
    }
   ],
   "source": [
    "lst1 = list(x_train[0])\n",
    "vals = lst1[200:210]\n",
    "vals"
   ]
  },
  {
   "cell_type": "markdown",
   "id": "58ed4e88-b2e7-400d-a254-d0bb0c3b06ac",
   "metadata": {},
   "source": [
    "Now the x_train and x_valid are a list of 784 long vectors, obtained by flattening 28*28 pixel images, we need to get the data in 28*28 shape"
   ]
  },
  {
   "cell_type": "code",
   "execution_count": 8,
   "id": "e95ff123-a3f0-4a3f-9308-0dfba596e943",
   "metadata": {},
   "outputs": [],
   "source": [
    "def chunks(x, sz):\n",
    "    for i in range(0, len(x), sz): yield(x[i:i+sz])"
   ]
  },
  {
   "cell_type": "code",
   "execution_count": 9,
   "id": "15bd1a5b-1aa9-45c8-9328-f81bb1c02fad",
   "metadata": {},
   "outputs": [
    {
     "data": {
      "text/plain": [
       "generator"
      ]
     },
     "execution_count": 9,
     "metadata": {},
     "output_type": "execute_result"
    }
   ],
   "source": [
    "type(chunks(lst1, 28))"
   ]
  },
  {
   "cell_type": "markdown",
   "id": "afca1849-d8e9-433a-a1b8-026072181a1a",
   "metadata": {},
   "source": [
    "chunks is a generator object (it yields stuff), we can call next on it to get a batch of data"
   ]
  },
  {
   "cell_type": "code",
   "execution_count": 10,
   "id": "7dbade99-141e-4344-a84a-4788600f24a8",
   "metadata": {},
   "outputs": [
    {
     "data": {
      "text/plain": [
       "<generator object chunks at 0x7fdfcfe1a2e0>"
      ]
     },
     "execution_count": 10,
     "metadata": {},
     "output_type": "execute_result"
    }
   ],
   "source": [
    "it = chunks(vals, 5); it"
   ]
  },
  {
   "cell_type": "code",
   "execution_count": 11,
   "id": "a9efa789-a6cc-4ba6-852d-75f608e5db92",
   "metadata": {},
   "outputs": [
    {
     "data": {
      "text/plain": [
       "[0.0, 0.0, 0.0, 0.19140625, 0.9296875]"
      ]
     },
     "execution_count": 11,
     "metadata": {},
     "output_type": "execute_result"
    }
   ],
   "source": [
    "next(it)"
   ]
  },
  {
   "cell_type": "code",
   "execution_count": 12,
   "id": "a2e46f7a-15c0-42f1-88da-7d2e3097e2d9",
   "metadata": {},
   "outputs": [
    {
     "data": {
      "text/plain": [
       "[0.98828125, 0.98828125, 0.98828125, 0.98828125, 0.98828125]"
      ]
     },
     "execution_count": 12,
     "metadata": {},
     "output_type": "execute_result"
    }
   ],
   "source": [
    "next(it)"
   ]
  },
  {
   "cell_type": "markdown",
   "id": "cb269bb6-759b-4859-b151-d3f5acf8e336",
   "metadata": {},
   "source": [
    "When a generator object runs out of stuff it raises StopIteration like so"
   ]
  },
  {
   "cell_type": "code",
   "execution_count": 13,
   "id": "a5294cfd-8847-4e01-a551-db6c593f5c4a",
   "metadata": {},
   "outputs": [
    {
     "ename": "StopIteration",
     "evalue": "",
     "output_type": "error",
     "traceback": [
      "\u001b[0;31m---------------------------------------------------------------------------\u001b[0m",
      "\u001b[0;31mStopIteration\u001b[0m                             Traceback (most recent call last)",
      "Input \u001b[0;32mIn [13]\u001b[0m, in \u001b[0;36m<cell line: 1>\u001b[0;34m()\u001b[0m\n\u001b[0;32m----> 1\u001b[0m \u001b[38;5;28;43mnext\u001b[39;49m\u001b[43m(\u001b[49m\u001b[43mit\u001b[49m\u001b[43m)\u001b[49m\n",
      "\u001b[0;31mStopIteration\u001b[0m: "
     ]
    }
   ],
   "source": [
    "next(it)"
   ]
  },
  {
   "cell_type": "markdown",
   "id": "1d2d8b18-6648-4267-8988-b2a34eb0e249",
   "metadata": {},
   "source": [
    "If we want to get run the entire thing we can wrap it in a list"
   ]
  },
  {
   "cell_type": "code",
   "execution_count": 14,
   "id": "1c0f9a5a-be93-43d5-a21f-e0d1947f81df",
   "metadata": {},
   "outputs": [
    {
     "data": {
      "text/plain": [
       "[[0.0, 0.0, 0.0, 0.19140625, 0.9296875],\n",
       " [0.98828125, 0.98828125, 0.98828125, 0.98828125, 0.98828125]]"
      ]
     },
     "execution_count": 14,
     "metadata": {},
     "output_type": "execute_result"
    }
   ],
   "source": [
    "list(chunks(vals, 5))"
   ]
  },
  {
   "cell_type": "code",
   "execution_count": 15,
   "id": "2345a6eb-e907-41c5-ae86-ee71bb224a92",
   "metadata": {},
   "outputs": [
    {
     "data": {
      "image/png": "[encoded data removed]",
      "text/plain": [
       "<Figure size 432x288 with 1 Axes>"
      ]
     },
     "metadata": {
      "needs_background": "light"
     },
     "output_type": "display_data"
    }
   ],
   "source": [
    "mpl.rcParams['image.cmap'] = 'gray'\n",
    "plt.imshow(list(chunks(lst1, 28)));"
   ]
  },
  {
   "cell_type": "raw",
   "id": "70211fa4-7c7b-4bf1-b991-9670e59997f6",
   "metadata": {},
   "source": [
    "Generators and Iterators are very closely related, another way of getting data is using islice"
   ]
  },
  {
   "cell_type": "code",
   "execution_count": 16,
   "id": "15f4756d-abf9-400d-9ee5-41de75b48393",
   "metadata": {},
   "outputs": [],
   "source": [
    "from itertools import islice"
   ]
  },
  {
   "cell_type": "code",
   "execution_count": 17,
   "id": "02575a0a-5deb-49c6-895e-95a63c8d3825",
   "metadata": {},
   "outputs": [
    {
     "data": {
      "text/plain": [
       "list_iterator"
      ]
     },
     "execution_count": 17,
     "metadata": {},
     "output_type": "execute_result"
    }
   ],
   "source": [
    "it = iter(vals); type(it)"
   ]
  },
  {
   "cell_type": "markdown",
   "id": "ca75aead-b838-4737-b351-996373d6e2a0",
   "metadata": {},
   "source": [
    "If we keep calling next on the iterator object it'll keep returning single value from the vals list till it runs out of things to return"
   ]
  },
  {
   "cell_type": "code",
   "execution_count": 18,
   "id": "b4747e8e-d06f-425e-be95-4e1ce9ceac0b",
   "metadata": {},
   "outputs": [
    {
     "data": {
      "text/plain": [
       "0.0"
      ]
     },
     "execution_count": 18,
     "metadata": {},
     "output_type": "execute_result"
    }
   ],
   "source": [
    "next(it)"
   ]
  },
  {
   "cell_type": "markdown",
   "id": "d10ac625-c42e-47bf-86e4-e93c54135d5a",
   "metadata": {},
   "source": [
    "Or we can get a slice of object from the iterator object using islice"
   ]
  },
  {
   "cell_type": "code",
   "execution_count": 19,
   "id": "067d8a42-b96c-472d-b4de-983f9aba0005",
   "metadata": {},
   "outputs": [
    {
     "data": {
      "text/plain": [
       "[0.0, 0.0, 0.19140625, 0.9296875, 0.98828125]"
      ]
     },
     "execution_count": 19,
     "metadata": {},
     "output_type": "execute_result"
    }
   ],
   "source": [
    "list(islice(it, 5))"
   ]
  },
  {
   "cell_type": "code",
   "execution_count": 20,
   "id": "ad59f0fe-9083-44c1-ad3c-03bf87ed1e46",
   "metadata": {},
   "outputs": [
    {
     "data": {
      "text/plain": [
       "[0.98828125, 0.98828125, 0.98828125, 0.98828125]"
      ]
     },
     "execution_count": 20,
     "metadata": {},
     "output_type": "execute_result"
    }
   ],
   "source": [
    "list(islice(it, 5))"
   ]
  },
  {
   "cell_type": "code",
   "execution_count": 21,
   "id": "eb5b6b11-2757-48c4-a116-75ef963a5575",
   "metadata": {},
   "outputs": [
    {
     "data": {
      "text/plain": [
       "[]"
      ]
     },
     "execution_count": 21,
     "metadata": {},
     "output_type": "execute_result"
    }
   ],
   "source": [
    "list(islice(it, 5))"
   ]
  },
  {
   "cell_type": "code",
   "execution_count": 22,
   "id": "6db0366c-a430-4017-bbbe-d6e57821911e",
   "metadata": {},
   "outputs": [
    {
     "data": {
      "text/plain": [
       "\u001b[0;31mDocstring:\u001b[0m\n",
       "iter(iterable) -> iterator\n",
       "iter(callable, sentinel) -> iterator\n",
       "\n",
       "Get an iterator from an object.  In the first form, the argument must\n",
       "supply its own iterator, or be a sequence.\n",
       "In the second form, the callable is called until it returns the sentinel.\n",
       "\u001b[0;31mType:\u001b[0m      builtin_function_or_method\n"
      ]
     },
     "metadata": {},
     "output_type": "display_data"
    }
   ],
   "source": [
    "iter??"
   ]
  },
  {
   "cell_type": "markdown",
   "id": "6f18b974-d55a-461f-bbb0-46519af9d8d9",
   "metadata": {},
   "source": [
    "#### iter\n",
    "iter can take a callable (a function and a sentinel value, so we can define a lambda function using islice to get a list of list"
   ]
  },
  {
   "cell_type": "code",
   "execution_count": 23,
   "id": "0f9eae66-1bdf-47eb-81c3-951821d33177",
   "metadata": {},
   "outputs": [],
   "source": [
    "it = iter(lst1)\n",
    "img = list(iter(lambda: list(islice(it, 28)), []))"
   ]
  },
  {
   "cell_type": "code",
   "execution_count": 24,
   "id": "9ac1c1e6-bc82-42e5-ab16-f5d4271d119c",
   "metadata": {},
   "outputs": [
    {
     "data": {
      "image/png": "[encoded data removed]",
      "text/plain": [
       "<Figure size 432x288 with 1 Axes>"
      ]
     },
     "metadata": {
      "needs_background": "light"
     },
     "output_type": "display_data"
    }
   ],
   "source": [
    "plt.imshow(img);"
   ]
  },
  {
   "cell_type": "markdown",
   "id": "073bfdde-1156-4f50-8003-0664013a67ff",
   "metadata": {},
   "source": [
    "Or we can define a separate function and pass it to iter to get the same results"
   ]
  },
  {
   "cell_type": "code",
   "execution_count": 25,
   "id": "4ea9370d-03a8-4c0d-8ef9-dcf18d60e4b0",
   "metadata": {},
   "outputs": [],
   "source": [
    "it = iter(lst1)"
   ]
  },
  {
   "cell_type": "code",
   "execution_count": 26,
   "id": "df532a88-e1c8-4e0a-8531-d50a2de3cb63",
   "metadata": {},
   "outputs": [],
   "source": [
    "def f(): return list(islice(it, 28))"
   ]
  },
  {
   "cell_type": "code",
   "execution_count": 27,
   "id": "5354cd03-7afa-4d69-88fe-73d046d42d41",
   "metadata": {},
   "outputs": [],
   "source": [
    "img = list(iter(f, []))"
   ]
  },
  {
   "cell_type": "code",
   "execution_count": 28,
   "id": "128bd894-0176-475e-b219-ee7669dfa81a",
   "metadata": {},
   "outputs": [
    {
     "data": {
      "image/png": "[encoded data removed]",
      "text/plain": [
       "<Figure size 432x288 with 1 Axes>"
      ]
     },
     "metadata": {
      "needs_background": "light"
     },
     "output_type": "display_data"
    }
   ],
   "source": [
    "plt.imshow(img);"
   ]
  },
  {
   "cell_type": "code",
   "execution_count": 29,
   "id": "881d453b-df50-487a-9a10-ece9a6cc2ea8",
   "metadata": {},
   "outputs": [
    {
     "data": {
      "text/plain": [
       "0.98828125"
      ]
     },
     "execution_count": 29,
     "metadata": {},
     "output_type": "execute_result"
    }
   ],
   "source": [
    "img[20][15]"
   ]
  },
  {
   "cell_type": "markdown",
   "id": "12b16d66-7b38-4126-bebc-309df3a78af7",
   "metadata": {},
   "source": [
    "### List to Matrix\n",
    "So far we have to index into our list of list using [][], we want it to behave like a numpy array so we can define our class with \\__getitem__"
   ]
  },
  {
   "cell_type": "code",
   "execution_count": 30,
   "id": "0f6a4baf-d841-428a-bc51-320c7a31494b",
   "metadata": {},
   "outputs": [],
   "source": [
    "class Matrix:\n",
    "    def __init__(self, xs): self.xs = xs\n",
    "    def __getitem__(self, idxs): return self.xs[idxs[0]][idxs[1]]"
   ]
  },
  {
   "cell_type": "code",
   "execution_count": 31,
   "id": "7c2e8fda-e0a6-470c-ac40-98ab004c60ff",
   "metadata": {},
   "outputs": [
    {
     "data": {
      "text/plain": [
       "0.98828125"
      ]
     },
     "execution_count": 31,
     "metadata": {},
     "output_type": "execute_result"
    }
   ],
   "source": [
    "im = Matrix(img)\n",
    "im[20,15]"
   ]
  },
  {
   "cell_type": "markdown",
   "id": "82baaeb4-3ac6-420e-8799-31b148771434",
   "metadata": {},
   "source": [
    "We can define our custom class to do some funky stuff like slicing"
   ]
  },
  {
   "cell_type": "code",
   "execution_count": 32,
   "id": "4df89318-ca76-474e-9c6a-cfeb0d4cffdf",
   "metadata": {},
   "outputs": [
    {
     "name": "stdout",
     "output_type": "stream",
     "text": [
      "Custom slicing: start=1, stop=8, step=2\n",
      "[1, 3, 5, 7]\n"
     ]
    }
   ],
   "source": [
    "class MyList:\n",
    "    def __init__(self, data):\n",
    "        self.data = data\n",
    "\n",
    "    def __getitem__(self, key):\n",
    "        if isinstance(key, slice):\n",
    "            print(f\"Custom slicing: start={key.start}, stop={key.stop}, step={key.step}\")\n",
    "            return self.data[key.start:key.stop:key.step]\n",
    "        else:\n",
    "            return self.data[key]\n",
    "\n",
    "my_list = MyList([0, 1, 2, 3, 4, 5, 6, 7, 8, 9])\n",
    "print(my_list[1:8:2])"
   ]
  },
  {
   "cell_type": "markdown",
   "id": "b2f73756-412d-4583-865d-32545b3cb946",
   "metadata": {},
   "source": [
    "Now that we've implemented our own class and can index into our object like matrix, we'll use tensors."
   ]
  },
  {
   "cell_type": "code",
   "execution_count": 33,
   "id": "040ff59b-c0b8-4332-b6b4-1e86fd5306b7",
   "metadata": {},
   "outputs": [],
   "source": [
    "import torch\n",
    "from torch import tensor"
   ]
  },
  {
   "cell_type": "code",
   "execution_count": 34,
   "id": "5a575d5d-afee-4b11-b4d3-322017353864",
   "metadata": {},
   "outputs": [],
   "source": [
    "tens = tensor(img)"
   ]
  },
  {
   "cell_type": "code",
   "execution_count": 35,
   "id": "095dcf2b-5bcd-4678-af96-bfe36c0c8bef",
   "metadata": {},
   "outputs": [
    {
     "data": {
      "text/plain": [
       "tensor(0.9883)"
      ]
     },
     "execution_count": 35,
     "metadata": {},
     "output_type": "execute_result"
    }
   ],
   "source": [
    "tens[20,15]"
   ]
  },
  {
   "cell_type": "markdown",
   "id": "de783de5-4b56-4359-99c2-327e763ffca1",
   "metadata": {},
   "source": [
    "We can use map to change all 4 arrays to tensors"
   ]
  },
  {
   "cell_type": "code",
   "execution_count": 36,
   "id": "9a9715b9-4b2e-41e7-a0ee-42cfe3414582",
   "metadata": {},
   "outputs": [],
   "source": [
    "x_train, y_train, x_valid, y_valid = map(tensor, (x_train, y_train, x_valid, y_valid))"
   ]
  },
  {
   "cell_type": "code",
   "execution_count": 37,
   "id": "c4dccc12-09c2-46bc-8ebc-d76156b0b925",
   "metadata": {},
   "outputs": [
    {
     "data": {
      "text/plain": [
       "torch.Size([50000, 784])"
      ]
     },
     "execution_count": 37,
     "metadata": {},
     "output_type": "execute_result"
    }
   ],
   "source": [
    "x_train.shape"
   ]
  },
  {
   "cell_type": "code",
   "execution_count": 38,
   "id": "f40fe14c-a3d4-438d-9eb7-58d6bf20e55b",
   "metadata": {},
   "outputs": [
    {
     "data": {
      "text/plain": [
       "'torch.FloatTensor'"
      ]
     },
     "execution_count": 38,
     "metadata": {},
     "output_type": "execute_result"
    }
   ],
   "source": [
    "x_train.type()"
   ]
  },
  {
   "cell_type": "markdown",
   "id": "b0f6dc6e-9cb5-4793-9dec-b3bd049dbec1",
   "metadata": {},
   "source": [
    "It's a lot easier to reshape the matrices to 28*28 arrays now"
   ]
  },
  {
   "cell_type": "code",
   "execution_count": 39,
   "id": "f40d4971-5e38-4730-83d6-9f990729cc3d",
   "metadata": {},
   "outputs": [
    {
     "data": {
      "text/plain": [
       "torch.Size([50000, 28, 28])"
      ]
     },
     "execution_count": 39,
     "metadata": {},
     "output_type": "execute_result"
    }
   ],
   "source": [
    "imgs = x_train.reshape(-1,28,28)\n",
    "imgs.shape"
   ]
  },
  {
   "cell_type": "markdown",
   "id": "871009b2-1f55-4ca0-9747-31708351d73c",
   "metadata": {},
   "source": [
    "Another way of reshaping is by using .view()"
   ]
  },
  {
   "cell_type": "code",
   "execution_count": 40,
   "id": "7f4d5275-42e0-497e-9f74-c6f3d36d2765",
   "metadata": {},
   "outputs": [
    {
     "data": {
      "text/plain": [
       "torch.Size([50000, 28, 28])"
      ]
     },
     "execution_count": 40,
     "metadata": {},
     "output_type": "execute_result"
    }
   ],
   "source": [
    "imgs = x_train.view(-1, 28, 28)\n",
    "imgs.shape"
   ]
  },
  {
   "cell_type": "markdown",
   "id": "394e6eba-d946-47d5-8bb0-44995af201db",
   "metadata": {},
   "source": [
    "### Matrix Multiplication"
   ]
  },
  {
   "cell_type": "code",
   "execution_count": 41,
   "id": "9c42e9a5-850d-4bf0-8e53-fad28d9706b7",
   "metadata": {},
   "outputs": [],
   "source": [
    "torch.manual_seed(1)\n",
    "weights = torch.randn(784,10)\n",
    "bias = torch.zeros(10)"
   ]
  },
  {
   "cell_type": "code",
   "execution_count": 42,
   "id": "717ae9eb-b995-47dd-a31e-098628a6c74a",
   "metadata": {},
   "outputs": [],
   "source": [
    "m1 = x_valid[:5]\n",
    "m2 = weights"
   ]
  },
  {
   "cell_type": "code",
   "execution_count": 43,
   "id": "b3282d9b-1ac6-4c7d-9327-3c43fdefe864",
   "metadata": {},
   "outputs": [
    {
     "data": {
      "text/plain": [
       "(torch.Size([5, 784]), torch.Size([784, 10]))"
      ]
     },
     "execution_count": 43,
     "metadata": {},
     "output_type": "execute_result"
    }
   ],
   "source": [
    "m1.shape, m2.shape"
   ]
  },
  {
   "cell_type": "code",
   "execution_count": 44,
   "id": "fccfdc8a-1ace-4eb2-abb5-fbd834409731",
   "metadata": {},
   "outputs": [
    {
     "data": {
      "text/plain": [
       "((5, 784), (784, 10))"
      ]
     },
     "execution_count": 44,
     "metadata": {},
     "output_type": "execute_result"
    }
   ],
   "source": [
    "ar,ac = m1.shape\n",
    "br,bc = m2.shape\n",
    "(ar,ac), (br,bc)"
   ]
  },
  {
   "cell_type": "code",
   "execution_count": 45,
   "id": "24338328-251f-4796-8f45-789207eedc7a",
   "metadata": {},
   "outputs": [
    {
     "data": {
      "text/plain": [
       "torch.Size([5, 10])"
      ]
     },
     "execution_count": 45,
     "metadata": {},
     "output_type": "execute_result"
    }
   ],
   "source": [
    "t1 = torch.zeros(ar,bc)\n",
    "t1.shape"
   ]
  },
  {
   "cell_type": "code",
   "execution_count": 46,
   "id": "2afa12db-635a-44f6-9271-494ff7bca7d7",
   "metadata": {},
   "outputs": [],
   "source": [
    "for i in range(ar):\n",
    "    for j in range(bc):\n",
    "        for k in range(ac):\n",
    "            t1[i,j] += m1[i,k] * m2[k,j]"
   ]
  },
  {
   "cell_type": "code",
   "execution_count": 47,
   "id": "96eb4054-5cfa-4827-87a8-08b8ca56d78a",
   "metadata": {},
   "outputs": [
    {
     "data": {
      "text/plain": [
       "tensor([[-10.9417,  -0.6844,  -7.0038,  -4.0066,  -2.0857,  -3.3588,   3.9127,\n",
       "          -3.4375, -11.4696,  -2.1153],\n",
       "        [ 14.5430,   5.9977,   2.8914,  -4.0777,   6.5914, -14.7383,  -9.2787,\n",
       "           2.1577, -15.2772,  -2.6758],\n",
       "        [  2.2204,  -3.2171,  -4.7988,  -6.0453,  14.1661,  -8.9824,  -4.7922,\n",
       "          -5.4446, -20.6758,  13.5657],\n",
       "        [ -6.7097,   8.8998,  -7.4611,  -7.8966,   2.6994,  -4.7260, -11.0278,\n",
       "         -12.9776,  -6.4443,   3.6376],\n",
       "        [ -2.4444,  -6.4034,  -2.3984,  -9.0371,  11.1772,  -5.7724,  -8.9214,\n",
       "          -3.7862,  -8.9827,   5.2797]])"
      ]
     },
     "execution_count": 47,
     "metadata": {},
     "output_type": "execute_result"
    }
   ],
   "source": [
    "t1"
   ]
  },
  {
   "cell_type": "code",
   "execution_count": 48,
   "id": "b7c0dcf4-f139-41eb-b141-b41bb94585cb",
   "metadata": {},
   "outputs": [
    {
     "data": {
      "text/plain": [
       "tensor([[-10.94,  -0.68,  -7.00,  -4.01,  -2.09,  -3.36,   3.91,  -3.44, -11.47,  -2.12],\n",
       "        [ 14.54,   6.00,   2.89,  -4.08,   6.59, -14.74,  -9.28,   2.16, -15.28,  -2.68],\n",
       "        [  2.22,  -3.22,  -4.80,  -6.05,  14.17,  -8.98,  -4.79,  -5.44, -20.68,  13.57],\n",
       "        [ -6.71,   8.90,  -7.46,  -7.90,   2.70,  -4.73, -11.03, -12.98,  -6.44,   3.64],\n",
       "        [ -2.44,  -6.40,  -2.40,  -9.04,  11.18,  -5.77,  -8.92,  -3.79,  -8.98,   5.28]])"
      ]
     },
     "execution_count": 48,
     "metadata": {},
     "output_type": "execute_result"
    }
   ],
   "source": [
    "torch.set_printoptions(precision=2,linewidth=140, sci_mode=False)\n",
    "t1"
   ]
  },
  {
   "cell_type": "code",
   "execution_count": 49,
   "id": "82e88f96-40fc-4a27-a6dd-eb0b332e82a9",
   "metadata": {},
   "outputs": [],
   "source": [
    "import numpy as np\n",
    "np.set_printoptions(precision=2, linewidth=140)"
   ]
  },
  {
   "cell_type": "code",
   "execution_count": 50,
   "id": "e6df4380-c758-4a5f-8bf1-840a744b0ff0",
   "metadata": {},
   "outputs": [],
   "source": [
    "def matmul(a,b):\n",
    "    t = torch.zeros(a.shape[0],b.shape[1])\n",
    "    for i in range(a.shape[0]):\n",
    "        for j in range(b.shape[1]):\n",
    "            for k in range(a.shape[1]):\n",
    "                t[i,j] += a[i,k] * b[k,j]\n",
    "    return t"
   ]
  },
  {
   "cell_type": "code",
   "execution_count": 51,
   "id": "ac37ecef-e173-4c9c-9928-e33c58ef7efb",
   "metadata": {},
   "outputs": [
    {
     "name": "stdout",
     "output_type": "stream",
     "text": [
      "CPU times: user 733 ms, sys: 71 µs, total: 733 ms\n",
      "Wall time: 741 ms\n"
     ]
    }
   ],
   "source": [
    "%time _=matmul(m1, m2)"
   ]
  },
  {
   "cell_type": "code",
   "execution_count": 52,
   "id": "e3981d06-3780-43f0-94de-bd0c0fe423ac",
   "metadata": {},
   "outputs": [
    {
     "data": {
      "text/plain": [
       "39200"
      ]
     },
     "execution_count": 52,
     "metadata": {},
     "output_type": "execute_result"
    }
   ],
   "source": [
    "ar*bc*ac"
   ]
  },
  {
   "cell_type": "markdown",
   "id": "d33dd386-951e-46d2-8543-4a0e64f1a063",
   "metadata": {},
   "source": [
    "#### Numba\n",
    "\n",
    "Numba is a just-in-time (JIT) compiler for Python, focused on numerical and scientific computing.\n",
    "\n",
    "It can compile a subset of Python code—especially code that uses NumPy arrays and simple loops—into fast, machine-level instructions using LLVM (Low-Level Virtual Machine).\n",
    "\n",
    "The compiled functions run much faster than regular interpreted Python."
   ]
  },
  {
   "cell_type": "code",
   "execution_count": 53,
   "id": "4b122bc5-932d-463f-8e7e-1427a6657abc",
   "metadata": {},
   "outputs": [],
   "source": [
    "from numba import njit"
   ]
  },
  {
   "cell_type": "code",
   "execution_count": 54,
   "id": "a65c68cc-814f-4750-8e6d-d3898ba771d9",
   "metadata": {},
   "outputs": [],
   "source": [
    "@njit\n",
    "def dot(a,b):\n",
    "    res = 0.\n",
    "    for i in range(len(a)): res += a[i]*b[i]\n",
    "    return res"
   ]
  },
  {
   "cell_type": "code",
   "execution_count": 55,
   "id": "aa579d2d-a3b8-4f38-b68b-e8655886d531",
   "metadata": {},
   "outputs": [],
   "source": [
    "def matmul(a,b):\n",
    "    (ar,ac), (br,bc) = a.shape, b.shape\n",
    "    t = torch.zeros(ar,bc)\n",
    "    for i in range(ar):\n",
    "        for j in range(bc):\n",
    "            #import pdb; pdb.set_trace()\n",
    "            t[i, j] = dot(a[i,:], b[:,j])\n",
    "    return t"
   ]
  },
  {
   "cell_type": "code",
   "execution_count": 56,
   "id": "fdc105cf-043b-466c-88ff-e48b105683da",
   "metadata": {},
   "outputs": [],
   "source": [
    "from fastcore.test import *"
   ]
  },
  {
   "cell_type": "code",
   "execution_count": 57,
   "id": "3481bddd-0f04-4134-8b2c-fddf3d46a027",
   "metadata": {},
   "outputs": [],
   "source": [
    "test_close(t1, matmul(np.array(m1),np.array(m2)))"
   ]
  },
  {
   "cell_type": "code",
   "execution_count": 58,
   "id": "1b0d6e3d-727b-462c-8c48-a06502495640",
   "metadata": {},
   "outputs": [
    {
     "name": "stdout",
     "output_type": "stream",
     "text": [
      "363 µs ± 14.6 µs per loop (mean ± std. dev. of 7 runs, 50 loops each)\n"
     ]
    }
   ],
   "source": [
    "%timeit -n 50 matmul(np.array(m1),np.array(m2))"
   ]
  },
  {
   "cell_type": "markdown",
   "id": "97429bb5-6bb9-46f6-96d4-70d8e1d9668f",
   "metadata": {},
   "source": [
    "Using Numba gave us ~1500x faster implementation of matrix multiplication"
   ]
  },
  {
   "cell_type": "markdown",
   "id": "978547c4-25f4-4e2e-b4b3-aee9dc6d0efd",
   "metadata": {},
   "source": [
    "Matrix multiplication is when we multiply sinlge element from row of a first matrix to respective element of the column of another matrix and sum them up, we can implement it like this:"
   ]
  },
  {
   "cell_type": "code",
   "execution_count": 59,
   "id": "02db609f-da02-4224-a980-00b96fbe4d05",
   "metadata": {},
   "outputs": [],
   "source": [
    "def matmul(a,b):\n",
    "    (ar,ac), (br,bc) = a.shape, b.shape\n",
    "    t = torch.zeros(ar,bc)\n",
    "    for i in range(ar):\n",
    "        for j in range(bc):\n",
    "            t[i, j] = (a[i,:] * b[:,j]).sum()\n",
    "    return t"
   ]
  },
  {
   "cell_type": "code",
   "execution_count": 60,
   "id": "d6a60ebe-45b9-4214-9c14-63ef7825a582",
   "metadata": {},
   "outputs": [],
   "source": [
    "test_close(t1, matmul(m1,m2))"
   ]
  },
  {
   "cell_type": "code",
   "execution_count": 61,
   "id": "251c1cd8-3130-4846-b809-0db40c5870e1",
   "metadata": {},
   "outputs": [
    {
     "name": "stdout",
     "output_type": "stream",
     "text": [
      "978 µs ± 33.7 µs per loop (mean ± std. dev. of 7 runs, 50 loops each)\n"
     ]
    }
   ],
   "source": [
    "%timeit -n 50 matmul(m1,m2)"
   ]
  },
  {
   "cell_type": "markdown",
   "id": "1742576b-709e-4027-a1e0-50809b873832",
   "metadata": {},
   "source": [
    "Not quite as fast as numba but still pretty good compared to our pure Python implementation. Or we can use torch.dot which does the same thing."
   ]
  },
  {
   "cell_type": "code",
   "execution_count": 62,
   "id": "c049beee-ce0f-478e-9e57-6c211c9e727b",
   "metadata": {},
   "outputs": [],
   "source": [
    "def matmul(a,b):\n",
    "    (ar,ac), (br,bc) = a.shape, b.shape\n",
    "    t = torch.zeros(ar,bc)\n",
    "    for i in range(ar):\n",
    "        for j in range(bc):\n",
    "            t[i, j] = torch.dot(a[i,:] , b[:,j])\n",
    "    return t"
   ]
  },
  {
   "cell_type": "code",
   "execution_count": 63,
   "id": "1a673785-167e-453f-9005-70703be047fa",
   "metadata": {},
   "outputs": [],
   "source": [
    "test_close(t1, matmul(m1,m2))"
   ]
  },
  {
   "cell_type": "code",
   "execution_count": 64,
   "id": "cf77a63f-f216-4bbf-8819-44f8ebb775c5",
   "metadata": {},
   "outputs": [
    {
     "name": "stdout",
     "output_type": "stream",
     "text": [
      "606 µs ± 29.7 µs per loop (mean ± std. dev. of 7 runs, 50 loops each)\n"
     ]
    }
   ],
   "source": [
    "%timeit -n 50 matmul(m1,m2)"
   ]
  },
  {
   "cell_type": "markdown",
   "id": "b1e80359-ad58-489d-8a0c-78317cb9f93b",
   "metadata": {},
   "source": [
    "## Broadcasting"
   ]
  },
  {
   "cell_type": "markdown",
   "id": "24688025-3c95-4e3c-be44-f4ccacaf1b06",
   "metadata": {},
   "source": [
    "The term **broadcasting** describes how arrays with different shapes are treated during arithmetic operations.\n",
    "\n",
    "From the [Numpy Documentation](https://docs.scipy.org/doc/numpy-1.10.0/user/basics.broadcasting.html):\n",
    "\n",
    "    The term broadcasting describes how numpy treats arrays with \n",
    "    different shapes during arithmetic operations. Subject to certain \n",
    "    constraints, the smaller array is “broadcast” across the larger \n",
    "    array so that they have compatible shapes. Broadcasting provides a \n",
    "    means of vectorizing array operations so that looping occurs in C\n",
    "    instead of Python. It does this without making needless copies of \n",
    "    data and usually leads to efficient algorithm implementations.\n",
    "    \n",
    "In addition to the efficiency of broadcasting, it allows developers to write less code, which typically leads to fewer errors.\n",
    "\n",
    "*This section was adapted from [Chapter 4](http://nbviewer.jupyter.org/github/fastai/numerical-linear-algebra/blob/master/nbs/4.%20Compressed%20Sensing%20of%20CT%20Scans%20with%20Robust%20Regression.ipynb#4.-Compressed-Sensing-of-CT-Scans-with-Robust-Regression) of the fast.ai [Computational Linear Algebra](https://github.com/fastai/numerical-linear-algebra) course.*"
   ]
  },
  {
   "cell_type": "code",
   "execution_count": 70,
   "id": "fd3657ad-684c-458f-b491-53686b02fd7a",
   "metadata": {},
   "outputs": [
    {
     "data": {
      "text/plain": [
       "tensor([10., 20., 30.])"
      ]
     },
     "execution_count": 70,
     "metadata": {},
     "output_type": "execute_result"
    }
   ],
   "source": [
    "c = tensor([10.,20,30]); c"
   ]
  },
  {
   "cell_type": "code",
   "execution_count": 71,
   "id": "b7c39520-f542-45f4-b469-67c388dad19b",
   "metadata": {},
   "outputs": [
    {
     "data": {
      "text/plain": [
       "tensor([[1., 2., 3.],\n",
       "        [4., 5., 6.],\n",
       "        [7., 8., 9.]])"
      ]
     },
     "execution_count": 71,
     "metadata": {},
     "output_type": "execute_result"
    }
   ],
   "source": [
    "m = tensor([[1., 2, 3], [4,5,6], [7,8,9]]); m"
   ]
  },
  {
   "cell_type": "code",
   "execution_count": 72,
   "id": "b4b57503-07c6-4865-84e8-6639d791788a",
   "metadata": {},
   "outputs": [
    {
     "data": {
      "text/plain": [
       "(torch.Size([3, 3]), torch.Size([3]))"
      ]
     },
     "execution_count": 72,
     "metadata": {},
     "output_type": "execute_result"
    }
   ],
   "source": [
    "m.shape, c.shape"
   ]
  },
  {
   "cell_type": "code",
   "execution_count": 73,
   "id": "07aba811-c88a-41b3-bb20-38463469f4d7",
   "metadata": {},
   "outputs": [
    {
     "data": {
      "text/plain": [
       "tensor([[11., 22., 33.],\n",
       "        [14., 25., 36.],\n",
       "        [17., 28., 39.]])"
      ]
     },
     "execution_count": 73,
     "metadata": {},
     "output_type": "execute_result"
    }
   ],
   "source": [
    "m + c"
   ]
  },
  {
   "cell_type": "markdown",
   "id": "e6089d92-9635-430c-b7fa-5e9e2a217fc4",
   "metadata": {},
   "source": [
    "Here the 10, 20, 30 got added to each column because the boradcasting checked the last dimension of m which is 3 matches with the last dimension of c, if we wanted to add 10, 20, 30 to rows, we'll have to add a unit dimension to c like this"
   ]
  },
  {
   "cell_type": "code",
   "execution_count": 74,
   "id": "2d1a205a-d7c6-48f6-baca-59e4f99c6b97",
   "metadata": {},
   "outputs": [
    {
     "data": {
      "text/plain": [
       "torch.Size([3, 1])"
      ]
     },
     "execution_count": 74,
     "metadata": {},
     "output_type": "execute_result"
    }
   ],
   "source": [
    "c.unsqueeze(1).shape"
   ]
  },
  {
   "cell_type": "code",
   "execution_count": 75,
   "id": "b6312822-2608-496b-ba97-d3581fea3906",
   "metadata": {},
   "outputs": [
    {
     "data": {
      "text/plain": [
       "tensor([[11., 12., 13.],\n",
       "        [24., 25., 26.],\n",
       "        [37., 38., 39.]])"
      ]
     },
     "execution_count": 75,
     "metadata": {},
     "output_type": "execute_result"
    }
   ],
   "source": [
    "m + c.unsqueeze(1)"
   ]
  },
  {
   "cell_type": "code",
   "execution_count": 76,
   "id": "dff560d1-3c54-409e-a195-dce132229e18",
   "metadata": {},
   "outputs": [
    {
     "data": {
      "text/plain": [
       "tensor([[10., 20., 30.],\n",
       "        [10., 20., 30.],\n",
       "        [10., 20., 30.]])"
      ]
     },
     "execution_count": 76,
     "metadata": {},
     "output_type": "execute_result"
    }
   ],
   "source": [
    "t = c.expand_as(m); t"
   ]
  },
  {
   "cell_type": "markdown",
   "id": "488aad2b-c48c-408d-b804-ba512b1793ca",
   "metadata": {},
   "source": [
    "Broadcasting sorta copies the data over in the dimension it's trying to match but if we look at the storage we can see that it still has only 1 column"
   ]
  },
  {
   "cell_type": "code",
   "execution_count": 77,
   "id": "880775a3-863e-4f04-b512-7da0d4bd1af1",
   "metadata": {},
   "outputs": [
    {
     "data": {
      "text/plain": [
       " 10.0\n",
       " 20.0\n",
       " 30.0\n",
       "[torch.FloatStorage of size 3]"
      ]
     },
     "execution_count": 77,
     "metadata": {},
     "output_type": "execute_result"
    }
   ],
   "source": [
    "t.storage()"
   ]
  },
  {
   "cell_type": "code",
   "execution_count": 78,
   "id": "4913acaa-215c-404c-b320-06e87cb25866",
   "metadata": {},
   "outputs": [
    {
     "data": {
      "text/plain": [
       "tensor([[11., 22., 33.],\n",
       "        [14., 25., 36.],\n",
       "        [17., 28., 39.]])"
      ]
     },
     "execution_count": 78,
     "metadata": {},
     "output_type": "execute_result"
    }
   ],
   "source": [
    "m + t"
   ]
  },
  {
   "cell_type": "code",
   "execution_count": 79,
   "id": "75f50805-3747-4226-ad40-ab4b41833c2c",
   "metadata": {},
   "outputs": [
    {
     "data": {
      "text/plain": [
       "((0, 1), torch.Size([3, 3]))"
      ]
     },
     "execution_count": 79,
     "metadata": {},
     "output_type": "execute_result"
    }
   ],
   "source": [
    "t.stride(), t.shape"
   ]
  },
  {
   "cell_type": "markdown",
   "id": "93c643ed-e437-4686-9731-aae16631c6a5",
   "metadata": {},
   "source": [
    "A stride in a PyTorch tensor tells you how many memory steps (elements) you need to move to go to the next element along each dimension.\n",
    "\n",
    "For a tensor with shape (3, 3), a stride of (0, 1) means:\n",
    "\n",
    "Stride 0 in dim 0 (rows) means:\n",
    "\n",
    "Moving down one row in t does not advance in memory—it reuses the same value.\n",
    "\n",
    "Stride 1 in dim 1 (cols) means:\n",
    "\n",
    "Each \"column\" appears to step 1 index in memory—but this is just a logical layout, not real memory."
   ]
  },
  {
   "cell_type": "markdown",
   "id": "5778c69f-1ee3-4576-b50a-34563c04f881",
   "metadata": {},
   "source": [
    "No new memory is created, we can confirm using:"
   ]
  },
  {
   "cell_type": "code",
   "execution_count": 80,
   "id": "b76d9b36-7bf5-4b10-a29f-9d086a21e019",
   "metadata": {},
   "outputs": [
    {
     "name": "stdout",
     "output_type": "stream",
     "text": [
      "Memory address of c: 49752064\n",
      "Memory address of t: 49752064\n"
     ]
    }
   ],
   "source": [
    "print(\"Memory address of c:\", c.data_ptr())\n",
    "print(\"Memory address of t:\", t.data_ptr())"
   ]
  },
  {
   "cell_type": "code",
   "execution_count": 81,
   "id": "9f7f0ca7-e2dd-4c50-905a-a8cfbc651221",
   "metadata": {},
   "outputs": [
    {
     "data": {
      "text/plain": [
       "(tensor([10., 20., 30.]), torch.Size([3]))"
      ]
     },
     "execution_count": 81,
     "metadata": {},
     "output_type": "execute_result"
    }
   ],
   "source": [
    "c, c.shape"
   ]
  },
  {
   "cell_type": "markdown",
   "id": "93454224-dcb5-4abb-811f-2ae02ec33c98",
   "metadata": {},
   "source": [
    "There are other ways of adding dimensions to a tensor."
   ]
  },
  {
   "cell_type": "code",
   "execution_count": 82,
   "id": "cdb114b5-f619-4465-a568-96ec2122bfdb",
   "metadata": {},
   "outputs": [
    {
     "data": {
      "text/plain": [
       "(torch.Size([1, 3]), torch.Size([1, 3]))"
      ]
     },
     "execution_count": 82,
     "metadata": {},
     "output_type": "execute_result"
    }
   ],
   "source": [
    "c.unsqueeze(0).shape, c[None, :].shape"
   ]
  },
  {
   "cell_type": "code",
   "execution_count": 83,
   "id": "2d89ec7b-4ee5-4eee-b832-ea8767d4f772",
   "metadata": {},
   "outputs": [
    {
     "data": {
      "text/plain": [
       "(torch.Size([3, 1]), torch.Size([3, 1]))"
      ]
     },
     "execution_count": 83,
     "metadata": {},
     "output_type": "execute_result"
    }
   ],
   "source": [
    "c.unsqueeze(1).shape, c[:, None].shape"
   ]
  },
  {
   "cell_type": "code",
   "execution_count": 84,
   "id": "ba97c7bd-faec-450d-9876-f663b7def202",
   "metadata": {},
   "outputs": [
    {
     "data": {
      "text/plain": [
       "(torch.Size([3]), torch.Size([1, 3]), torch.Size([3, 1]), torch.Size([1, 3]))"
      ]
     },
     "execution_count": 84,
     "metadata": {},
     "output_type": "execute_result"
    }
   ],
   "source": [
    "# ... means all dimensions\n",
    "c.shape, c[None].shape, c[...,None].shape, c[None,...].shape"
   ]
  },
  {
   "cell_type": "code",
   "execution_count": 85,
   "id": "39843abd-6080-48ea-90bc-ce8cc4505f00",
   "metadata": {},
   "outputs": [
    {
     "data": {
      "text/plain": [
       "(torch.Size([784]), torch.Size([784, 10]))"
      ]
     },
     "execution_count": 85,
     "metadata": {},
     "output_type": "execute_result"
    }
   ],
   "source": [
    "digit = m1[0]\n",
    "digit.shape,m2.shape"
   ]
  },
  {
   "cell_type": "markdown",
   "id": "f2a92834-bf95-4a5c-816a-0fc4334e06c8",
   "metadata": {},
   "source": [
    "Here we can see broadcasting in action, we can add a unit dimenson to digit and then pytorch can broadcast the unit axis to the number of elements of m2"
   ]
  },
  {
   "cell_type": "code",
   "execution_count": 86,
   "id": "c59a756e-82f7-4e95-9b29-7a45f57dfc8c",
   "metadata": {},
   "outputs": [
    {
     "data": {
      "text/plain": [
       "(torch.Size([784, 10]), torch.Size([10]))"
      ]
     },
     "execution_count": 86,
     "metadata": {},
     "output_type": "execute_result"
    }
   ],
   "source": [
    "(digit[:,None]*m2).shape, (digit[:,None]*m2).sum(dim=0).shape"
   ]
  },
  {
   "cell_type": "markdown",
   "id": "abc233e7-d897-403d-9629-79003247f231",
   "metadata": {},
   "source": [
    "And we can then use this trick to compute the matrix multiplication using just a single loop"
   ]
  },
  {
   "cell_type": "code",
   "execution_count": 87,
   "id": "0be36610-d407-4574-9168-8559ff778a0b",
   "metadata": {},
   "outputs": [],
   "source": [
    "def matmul(a,b):\n",
    "    (ar,ac), (br,bc) = a.shape, b.shape\n",
    "    t = torch.zeros(ar,bc)\n",
    "    for i in range(ar):\n",
    "        t[i] = (a[i,:,None] * b).sum(dim=0)\n",
    "    return t"
   ]
  },
  {
   "cell_type": "code",
   "execution_count": 88,
   "id": "796ce6e1-9019-43fc-8a12-0454bfd52b99",
   "metadata": {},
   "outputs": [
    {
     "data": {
      "text/plain": [
       "(torch.Size([784, 10]), torch.Size([784, 1]))"
      ]
     },
     "execution_count": 88,
     "metadata": {},
     "output_type": "execute_result"
    }
   ],
   "source": [
    "m2.shape, m1[0,:,None].shape"
   ]
  },
  {
   "cell_type": "code",
   "execution_count": 89,
   "id": "6a82b210-d835-4c18-abbd-359635279750",
   "metadata": {},
   "outputs": [],
   "source": [
    "test_close(t1, matmul(m1,m2))"
   ]
  },
  {
   "cell_type": "code",
   "execution_count": 90,
   "id": "e9b941de-cc50-4202-90e9-7884dc9886fa",
   "metadata": {},
   "outputs": [
    {
     "name": "stdout",
     "output_type": "stream",
     "text": [
      "166 µs ± 19.2 µs per loop (mean ± std. dev. of 7 runs, 50 loops each)\n"
     ]
    }
   ],
   "source": [
    "%timeit -n 50 matmul(m1,m2)"
   ]
  },
  {
   "cell_type": "markdown",
   "id": "29369384-261a-48e4-9eae-cf7ee1c91ba8",
   "metadata": {},
   "source": [
    "And it's even faster, we're around 3000x faster than the pure python implementation of the matrix multiplication"
   ]
  },
  {
   "cell_type": "code",
   "execution_count": 91,
   "id": "d4a9689c-42ad-4276-9234-1c8bcec5955b",
   "metadata": {},
   "outputs": [
    {
     "data": {
      "text/plain": [
       "(torch.Size([5, 784]), torch.Size([784, 10]))"
      ]
     },
     "execution_count": 91,
     "metadata": {},
     "output_type": "execute_result"
    }
   ],
   "source": [
    "m1.shape, m2.shape"
   ]
  },
  {
   "cell_type": "code",
   "execution_count": 92,
   "id": "1b8df0a2-8dad-4f69-a524-285b04f51007",
   "metadata": {},
   "outputs": [
    {
     "data": {
      "text/plain": [
       "(tensor([0.34, 0.13, 0.23, 0.23]), tensor([-1.12, -0.19,  2.21, -0.64,  0.46]))"
      ]
     },
     "execution_count": 92,
     "metadata": {},
     "output_type": "execute_result"
    }
   ],
   "source": [
    "torch.manual_seed(42)\n",
    "a = torch.randn(4)\n",
    "b = torch.randn(5)\n",
    "a,b"
   ]
  },
  {
   "cell_type": "markdown",
   "id": "cd9c4afa-031a-4b7e-92e7-c827613bc611",
   "metadata": {},
   "source": [
    "### Einstein summation"
   ]
  },
  {
   "cell_type": "code",
   "execution_count": 93,
   "id": "4f7a2257-d440-4c11-a1c5-70a88a7ae99b",
   "metadata": {},
   "outputs": [
    {
     "data": {
      "text/plain": [
       "tensor([[-0.38, -0.06,  0.74, -0.21,  0.16],\n",
       "        [-0.14, -0.02,  0.28, -0.08,  0.06],\n",
       "        [-0.26, -0.04,  0.52, -0.15,  0.11],\n",
       "        [-0.26, -0.04,  0.51, -0.15,  0.11]])"
      ]
     },
     "execution_count": 93,
     "metadata": {},
     "output_type": "execute_result"
    }
   ],
   "source": [
    "c = torch.einsum('i,j->ij',a,b); c"
   ]
  },
  {
   "cell_type": "markdown",
   "id": "000635a6-bcf8-4ea0-b831-9ff6ac76b734",
   "metadata": {},
   "source": [
    "The way the above summation works is:\n",
    "\n",
    "c[0,0] = a[0] * b[0], c[0,1] = a[0] * b[1], c[0,2] = a[0] * b[2] etc."
   ]
  },
  {
   "cell_type": "markdown",
   "id": "84954bf7-aa66-4158-a764-98ab1d10ecf2",
   "metadata": {},
   "source": [
    "We can remove the dimension to get the matrix multiplication"
   ]
  },
  {
   "cell_type": "code",
   "execution_count": 94,
   "id": "4ab402e3-63e3-43e2-9f48-07d1edc4ada8",
   "metadata": {},
   "outputs": [
    {
     "data": {
      "text/plain": [
       "tensor([[ 0.50,  1.30,  0.63,  0.04],\n",
       "        [ 1.55, -1.10, -0.31, -0.81]])"
      ]
     },
     "execution_count": 94,
     "metadata": {},
     "output_type": "execute_result"
    }
   ],
   "source": [
    "torch.einsum('ij,jk->ik', torch.randn(2,3),torch.randn(3,4))"
   ]
  },
  {
   "cell_type": "code",
   "execution_count": 95,
   "id": "b53832ed-58d5-4ed1-a62f-171341d47cd5",
   "metadata": {},
   "outputs": [
    {
     "name": "stdout",
     "output_type": "stream",
     "text": [
      "tensor(0.24)\n"
     ]
    }
   ],
   "source": [
    "result = torch.einsum('i,i->', a,a)\n",
    "print(result)  # sum of squares"
   ]
  },
  {
   "cell_type": "code",
   "execution_count": 96,
   "id": "ca863730-57d2-42d1-8ece-f2d52be7cb09",
   "metadata": {},
   "outputs": [
    {
     "data": {
      "text/plain": [
       "tensor(0.24)"
      ]
     },
     "execution_count": 96,
     "metadata": {},
     "output_type": "execute_result"
    }
   ],
   "source": [
    "(a*a).sum()"
   ]
  },
  {
   "cell_type": "code",
   "execution_count": 97,
   "id": "e8337ebf-a715-4366-84b9-03bdbad8da44",
   "metadata": {},
   "outputs": [
    {
     "data": {
      "text/plain": [
       "(tensor([[[ 1.93,  1.49,  0.90, -2.11,  0.68],\n",
       "          [-1.23, -0.04, -1.60, -0.75,  1.65]],\n",
       " \n",
       "         [[-0.39, -1.40, -0.73, -0.56, -2.32],\n",
       "          [-0.22, -1.38, -0.87, -0.22,  1.72]],\n",
       " \n",
       "         [[ 0.32, -0.42, -0.83,  0.33, -1.56],\n",
       "          [ 1.00, -0.88, -0.60, -1.27,  2.12]]]),\n",
       " tensor([[[-1.09, -0.36, -0.91, -0.66],\n",
       "          [ 0.08,  0.53, -0.49,  1.19],\n",
       "          [-1.39, -1.29, -1.40,  0.04],\n",
       "          [-0.06,  0.68, -0.10,  1.84],\n",
       "          [ 1.39, -0.45,  1.45,  0.86]],\n",
       " \n",
       "         [[ 2.22,  0.52,  0.35, -0.20],\n",
       "          [-0.45, -0.77, -0.17,  0.52],\n",
       "          [ 0.06,  0.43,  0.58, -0.64],\n",
       "          [ 0.34,  1.70,  0.01, -0.34],\n",
       "          [-1.34, -0.59,  0.54,  0.52]],\n",
       " \n",
       "         [[-1.47,  1.43,  0.74, -0.48],\n",
       "          [ 0.19, -0.36, -0.32,  0.59],\n",
       "          [-0.89,  0.41, -1.46, -0.10],\n",
       "          [ 0.35,  0.62, -0.17,  0.23],\n",
       "          [ 4.04,  1.28, -0.01,  0.24]]]))"
      ]
     },
     "execution_count": 97,
     "metadata": {},
     "output_type": "execute_result"
    }
   ],
   "source": [
    "torch.manual_seed(42)\n",
    "As = torch.randn(3, 2, 5)\n",
    "Bs = torch.randn(3, 5, 4)\n",
    "As,Bs"
   ]
  },
  {
   "cell_type": "code",
   "execution_count": 98,
   "id": "5287ac0b-08f7-4ecc-9111-2d81d08a6aad",
   "metadata": {},
   "outputs": [
    {
     "data": {
      "text/plain": [
       "tensor([ 1.49, -1.40, -0.42])"
      ]
     },
     "execution_count": 98,
     "metadata": {},
     "output_type": "execute_result"
    }
   ],
   "source": [
    "As[:,0,1]"
   ]
  },
  {
   "cell_type": "code",
   "execution_count": 99,
   "id": "d78b39c2-7ec8-409c-89b1-b4eb9a08f55c",
   "metadata": {},
   "outputs": [
    {
     "data": {
      "text/plain": [
       "torch.Size([3, 2, 4])"
      ]
     },
     "execution_count": 99,
     "metadata": {},
     "output_type": "execute_result"
    }
   ],
   "source": [
    "torch.einsum(As, [..., 0, 1], Bs, [..., 1, 2], [..., 0, 2]).shape"
   ]
  },
  {
   "cell_type": "code",
   "execution_count": 100,
   "id": "7f62f810-5dd7-47ab-8d24-b50053badda6",
   "metadata": {},
   "outputs": [],
   "source": [
    "A = torch.randn(3, 5, 4)\n",
    "l = torch.randn(2, 5)\n",
    "r = torch.randn(2, 4)"
   ]
  },
  {
   "cell_type": "code",
   "execution_count": 101,
   "id": "36a3a494-000a-4f49-9277-4f571121eecb",
   "metadata": {},
   "outputs": [
    {
     "data": {
      "text/plain": [
       "torch.Size([2, 3, 4])"
      ]
     },
     "execution_count": 101,
     "metadata": {},
     "output_type": "execute_result"
    }
   ],
   "source": [
    "p = torch.einsum('ab,cbd->acd',l,A); p.shape"
   ]
  },
  {
   "cell_type": "code",
   "execution_count": 102,
   "id": "4728202f-613f-4bc1-8ea7-98fc7d0c0d84",
   "metadata": {},
   "outputs": [],
   "source": [
    "q = torch.einsum('abc,ac->ab',p,r)"
   ]
  },
  {
   "cell_type": "code",
   "execution_count": 103,
   "id": "c1c8a35b-844d-458b-81ce-be5b8bdd1a5b",
   "metadata": {},
   "outputs": [],
   "source": [
    "s = torch.einsum('ab,cbd,ad->ac',l,A,r)"
   ]
  },
  {
   "cell_type": "code",
   "execution_count": 104,
   "id": "0d38603c-e7f6-4087-882b-4af76f7ac6cf",
   "metadata": {},
   "outputs": [],
   "source": [
    "test_close(q,s)"
   ]
  },
  {
   "cell_type": "code",
   "execution_count": 105,
   "id": "057ffb38-0327-4c81-b8ab-b416fa326dc5",
   "metadata": {},
   "outputs": [],
   "source": [
    "def matmul(a,b): return torch.einsum('ij,jk->ik',a,b)"
   ]
  },
  {
   "cell_type": "code",
   "execution_count": 106,
   "id": "355f5810-77a9-4435-bfc3-68d34d76421c",
   "metadata": {},
   "outputs": [],
   "source": [
    "test_close(t1, matmul(m1,m2))"
   ]
  },
  {
   "cell_type": "code",
   "execution_count": 107,
   "id": "28633088-c405-4df6-877d-6c5379e40c86",
   "metadata": {},
   "outputs": [
    {
     "name": "stdout",
     "output_type": "stream",
     "text": [
      "14.9 ms ± 1.13 ms per loop (mean ± std. dev. of 7 runs, 5 loops each)\n"
     ]
    }
   ],
   "source": [
    "%timeit -n 5 _=matmul(x_train, weights)"
   ]
  },
  {
   "cell_type": "code",
   "execution_count": 108,
   "id": "aa4c597f-6a9c-4b06-a083-096cd4cc9e58",
   "metadata": {},
   "outputs": [],
   "source": [
    "test_close(t1, (m1@m2))"
   ]
  },
  {
   "cell_type": "markdown",
   "id": "c9be69d6-0c71-4974-8bdb-4b6f3f606d83",
   "metadata": {},
   "source": [
    "#### Pytorch matrix multiplication"
   ]
  },
  {
   "cell_type": "code",
   "execution_count": 109,
   "id": "f7f36190-c122-4480-8180-c00310898fc6",
   "metadata": {},
   "outputs": [],
   "source": [
    "tr = x_train@weights"
   ]
  },
  {
   "cell_type": "code",
   "execution_count": 110,
   "id": "7603573e-cc16-4169-86fb-7626fcd4fcbe",
   "metadata": {},
   "outputs": [
    {
     "name": "stdout",
     "output_type": "stream",
     "text": [
      "13.6 ms ± 1.37 ms per loop (mean ± std. dev. of 7 runs, 5 loops each)\n"
     ]
    }
   ],
   "source": [
    "%timeit -n 5 _= x_train@weights"
   ]
  },
  {
   "cell_type": "code",
   "execution_count": 111,
   "id": "1340f1a7-36b6-4630-8ff8-35b4299df659",
   "metadata": {},
   "outputs": [
    {
     "data": {
      "text/plain": [
       "torch.Size([50000, 10])"
      ]
     },
     "execution_count": 111,
     "metadata": {},
     "output_type": "execute_result"
    }
   ],
   "source": [
    "tr.shape"
   ]
  },
  {
   "cell_type": "markdown",
   "id": "014e2070-4066-47cd-b283-d616548c2e1b",
   "metadata": {},
   "source": [
    "#### CUDA"
   ]
  },
  {
   "cell_type": "code",
   "execution_count": 112,
   "id": "ba2bb6d7-0c4b-4db4-b431-80c1ee63cd02",
   "metadata": {},
   "outputs": [],
   "source": [
    "from numba import cuda"
   ]
  },
  {
   "cell_type": "code",
   "execution_count": 113,
   "id": "13d5ec6d-b681-4b12-a977-9870584449f2",
   "metadata": {},
   "outputs": [],
   "source": [
    "@cuda.jit\n",
    "def matmul(a, b, c):\n",
    "    i, j = cuda.grid(2)\n",
    "    if i < c.shape[0] and j < c.shape[1]:\n",
    "        tmp = 0.\n",
    "        for k in range(a.shape[1]):\n",
    "            tmp += a[i,k] * b[k,j]\n",
    "        c[i,j] = tmp"
   ]
  },
  {
   "cell_type": "code",
   "execution_count": 114,
   "id": "a37bcb08-2e51-445c-8ef0-061988afeb41",
   "metadata": {},
   "outputs": [],
   "source": [
    "r = np.zeros((x_train.shape[0], weights.shape[1]))\n",
    "m1g, m2g, rg = map(cuda.to_device, (x_train, weights, r))"
   ]
  },
  {
   "cell_type": "code",
   "execution_count": 115,
   "id": "bd485814-5124-4a13-9a26-8a3fd91e0f36",
   "metadata": {},
   "outputs": [
    {
     "data": {
      "text/plain": [
       "(3125, 1)"
      ]
     },
     "execution_count": 115,
     "metadata": {},
     "output_type": "execute_result"
    }
   ],
   "source": [
    "TPB = 16\n",
    "rr,rc = r.shape\n",
    "blockspergrid = (math.ceil(rr/TPB), math.ceil(rc/TPB))\n",
    "blockspergrid"
   ]
  },
  {
   "cell_type": "code",
   "execution_count": 116,
   "id": "5d795560-0d9f-4de8-a7af-33f320b3e701",
   "metadata": {},
   "outputs": [],
   "source": [
    "matmul[blockspergrid, (TPB,TPB)](m1g,m2g,rg)\n",
    "r = rg.copy_to_host()\n",
    "test_close(tr, r, eps=1e-3)"
   ]
  },
  {
   "cell_type": "code",
   "execution_count": 117,
   "id": "53a52d46-6f18-44b9-b8f9-1305541ac194",
   "metadata": {},
   "outputs": [
    {
     "data": {
      "text/plain": [
       "(50000, 10)"
      ]
     },
     "execution_count": 117,
     "metadata": {},
     "output_type": "execute_result"
    }
   ],
   "source": [
    "r.shape"
   ]
  },
  {
   "cell_type": "code",
   "execution_count": 118,
   "id": "7793061d-7bc7-435e-a954-d40430f9487c",
   "metadata": {},
   "outputs": [
    {
     "name": "stdout",
     "output_type": "stream",
     "text": [
      "6.17 ms ± 407 µs per loop (mean ± std. dev. of 7 runs, 10 loops each)\n"
     ]
    }
   ],
   "source": [
    "%%timeit -n 10\n",
    "matmul[blockspergrid, (TPB,TPB)](m1g,m2g,rg)\n",
    "r = rg.copy_to_host()"
   ]
  },
  {
   "cell_type": "code",
   "execution_count": 119,
   "id": "e37cae37-4602-408f-9e1e-59cc08e2b0d2",
   "metadata": {},
   "outputs": [],
   "source": [
    "m1c, m2c = x_train.cuda(), weights.cuda()"
   ]
  },
  {
   "cell_type": "code",
   "execution_count": 120,
   "id": "2ad24cdd-74da-43cb-9973-435f030483c9",
   "metadata": {},
   "outputs": [],
   "source": [
    "r=(m1c@m2c).cpu()"
   ]
  },
  {
   "cell_type": "code",
   "execution_count": 121,
   "id": "d580b16f-f07e-4969-ba11-d9d73e307e61",
   "metadata": {},
   "outputs": [
    {
     "name": "stdout",
     "output_type": "stream",
     "text": [
      "1.69 ms ± 272 µs per loop (mean ± std. dev. of 7 runs, 10 loops each)\n"
     ]
    }
   ],
   "source": [
    "%timeit -n 10 r=(m1c@m2c).cpu()"
   ]
  },
  {
   "cell_type": "code",
   "execution_count": null,
   "id": "a9155c01-b1cc-4258-bb9e-367e08a24ce8",
   "metadata": {},
   "outputs": [],
   "source": []
  }
 ],
 "metadata": {
  "kernelspec": {
   "display_name": "Python 3 (ipykernel)",
   "language": "python",
   "name": "python3"
  },
  "language_info": {
   "codemirror_mode": {
    "name": "ipython",
    "version": 3
   },
   "file_extension": ".py",
   "mimetype": "text/x-python",
   "name": "python",
   "nbconvert_exporter": "python",
   "pygments_lexer": "ipython3",
   "version": "3.9.13"
  }
 },
 "nbformat": 4,
 "nbformat_minor": 5
}
